{
 "cells": [
  {
   "cell_type": "code",
   "execution_count": 2,
   "metadata": {},
   "outputs": [],
   "source": [
    "from credentials import login\n",
    "from influxdb import InfluxDBClient\n",
    "import influxdb\n",
    "import pandas as pd\n"
   ]
  },
  {
   "cell_type": "code",
   "execution_count": 3,
   "metadata": {},
   "outputs": [],
   "source": [
    "dfClient = InfluxDBClient(host=\"testresults.qt.io\", port=443, ssl=True,\n",
    "            verify_ssl=True,username=login[\"user\"], password=login[\"password\"], database='coin')\n",
    "\n",
    "dfClient._InfluxDBClient__baseurl = \"{0}://{1}:{2}/{3}\".format(\n",
    "            dfClient._scheme,\n",
    "            dfClient._host,\n",
    "            dfClient._port,\n",
    "            \"influxdb\")"
   ]
  },
  {
   "cell_type": "code",
   "execution_count": 4,
   "metadata": {},
   "outputs": [],
   "source": []
  },
  {
   "cell_type": "code",
   "execution_count": 58,
   "metadata": {},
   "outputs": [],
   "source": [
    "def execQuery(query):\n",
    "    queryResult = dfClient.query(query, database=\"coin\")\n",
    "    resultDF = pd.DataFrame(queryResult.get_points())\n",
    "    try:        \n",
    "        resultDF[\"testCaseFunction\"] = resultDF[\"testCase\"] + resultDF[\"testFunction\"]    \n",
    "        #print(\"Non unique: \", resultDF.shape[0])\n",
    "        resultDF.drop_duplicates(subset =\"testCaseFunction\", keep = False, inplace = True)\n",
    "         #print(\"unique: \", resultDF.shape[0])            \n",
    "        howMany = resultDF.shape[0]\n",
    "    except KeyError:\n",
    "    #       print('KeyError')            \n",
    "        howMany = 0\n",
    "    return howMany\n"
   ]
  },
  {
   "cell_type": "code",
   "execution_count": 62,
   "metadata": {},
   "outputs": [
    {
     "name": "stdout",
     "output_type": "stream",
     "text": [
      "2020-03-10 00:13:20.081454\n"
     ]
    }
   ],
   "source": [
    "\n",
    "from datetime import datetime\n",
    "from calendar import monthrange\n",
    "\n",
    "df = pd.DataFrame({\n",
    "    'flaky_count': [],\n",
    "    'flaky_failed_count': [],\n",
    "    'crashed_count': [],\n",
    "    'date': []\n",
    "})\n",
    "\n",
    "today = datetime.now()\n",
    "print(today)\n",
    "for year in range (2019, 2021):\n",
    "    for month in range(1,13):    \n",
    "        firstDay = datetime(year, month, 1, 0,0,0)\n",
    "        lastDay = datetime(year, month, monthrange(year,month)[1],23, 59, 59 )       \n",
    "        \n",
    "        query = \"select * from flaky_test where time > '\"+ str(firstDay) + \"' and time < '\" + str(lastDay) + \"'\"\n",
    "        howManyFlaky = execQuery(query)            \n",
    "        query = \"select * from flaky_test where result = 'Failed' and time > '\"+ str(firstDay) + \"' and time < '\" + str(lastDay) + \"'\"\n",
    "        howManyFlakyFailed = execQuery(query)            \n",
    "        query = \"select * from crashed_test where time > '\"+ str(firstDay) + \"' and time < '\" + str(lastDay) + \"'\"        \n",
    "        howManyCrashed = execQuery(query)\n",
    "        df = df.append({'flaky_count': howManyFlaky,'flaky_failed_count': howManyFlakyFailed, 'crashed_count': howManyCrashed, 'date': firstDay}, ignore_index=True)\n",
    "        if today < lastDay:            \n",
    "            break\n",
    "\n"
   ]
  },
  {
   "cell_type": "code",
   "execution_count": 77,
   "metadata": {},
   "outputs": [],
   "source": [
    "from bokeh.plotting import figure\n",
    "from bokeh.io import output_file, show\n",
    "from bokeh.models import DatetimeTickFormatter\n",
    "from bokeh.transform import dodge\n",
    "output_file(\"distinct_flaky_and_crashed.html\")\n",
    "\n",
    "src = ColumnDataSource(df)\n",
    "\n",
    "ms_factor = 1000000000 # i have to multiply by 1000 000 000 since date is presented up to ms\n",
    "bar_width = 0.4 * ms_factor \n",
    "\n",
    "hover_tool = HoverTool( tooltips=[('flaky', '@flaky_count'),('flaky failed', '@flaky_failed_count'),('crashed', '@crashed_count'), ('date', '@date{%F}')], formatters={'date': 'datetime'})\n",
    "\n",
    "\n",
    "p = figure(x_axis_type=\"datetime\", plot_width=800, plot_height=400, title=\"Distinct flaky testcases per month\", tools=[hover_tool], toolbar_location=\"below\")\n",
    "p.vbar(x=dodge('date',  -0.5 * ms_factor ,), top='flaky_count',source=ColumnDataSource(df), width= bar_width, color=\"#c9d9d3\", legend_label=\"Flaky\")\n",
    "p.vbar(x=dodge('date',  0.0,) , top='flaky_failed_count',source=ColumnDataSource(df), width=bar_width, color=\"#718dbf\", legend_label=\"Flaky_Failed\")\n",
    "p.vbar(x=dodge('date',  0.5 * ms_factor,) , top='crashed_count',source=ColumnDataSource(df), width=bar_width, color=\"#e84d60\", legend_label=\"Crashed\")\n",
    "\n",
    "p.y_range.start = 0\n",
    "p.legend.location = \"top_left\"\n",
    "p.legend.orientation = \"horizontal\"\n",
    "\n",
    "show(p)\n",
    "\n"
   ]
  },
  {
   "cell_type": "code",
   "execution_count": null,
   "metadata": {},
   "outputs": [],
   "source": []
  },
  {
   "cell_type": "code",
   "execution_count": 1,
   "metadata": {},
   "outputs": [
    {
     "name": "stdout",
     "output_type": "stream",
     "text": [
      "1.4.0\n"
     ]
    }
   ],
   "source": []
  },
  {
   "cell_type": "code",
   "execution_count": null,
   "metadata": {},
   "outputs": [],
   "source": []
  }
 ],
 "metadata": {
  "kernelspec": {
   "display_name": "Python 3",
   "language": "python",
   "name": "python3"
  },
  "language_info": {
   "codemirror_mode": {
    "name": "ipython",
    "version": 3
   },
   "file_extension": ".py",
   "mimetype": "text/x-python",
   "name": "python",
   "nbconvert_exporter": "python",
   "pygments_lexer": "ipython3",
   "version": "3.6.9"
  }
 },
 "nbformat": 4,
 "nbformat_minor": 2
}
