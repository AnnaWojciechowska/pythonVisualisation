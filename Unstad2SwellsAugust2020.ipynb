{
 "cells": [
  {
   "cell_type": "code",
   "execution_count": 1,
   "metadata": {},
   "outputs": [],
   "source": [
    "import numpy as np\n",
    "%matplotlib inline\n",
    "import matplotlib.pyplot as plt\n",
    "import matplotlib.dates as mdates\n",
    "import datetime"
   ]
  },
  {
   "cell_type": "markdown",
   "metadata": {},
   "source": [
    "based on article here:\n",
    "https://magicseaweed.com/news/hint-you-can-use-our-swell-charts-to-tell-how-far-away-a-storm-is/11738/\n"
   ]
  },
  {
   "cell_type": "code",
   "execution_count": 3,
   "metadata": {},
   "outputs": [],
   "source": [
    "#swell1:\n",
    "\n",
    "swell1Dates=['00-17/08/20','03-17/08/20','06-17/08/20','09-17/08/20','12-17/08/20','15-17/08/20','18-17/08/20','21-17/08/20',\n",
    "           '00-18/08/20','03-18/08/20','06-18/08/20','09-18/08/20','12-18/08/20','15-18/08/20','18-18/08/20','21-18/08/20',\n",
    "           '00-19/08/20','03-19/08/20','06-19/08/20','09-19/08/20','12-19/08/20','15-19/08/20','18-19/08/20','21-19/08/20'] \n",
    "\n",
    "swell1Period = [9, 10, 10, 10, 10, 9, 9, 9,  #17\n",
    "                8,  8,  7,  7,  7, 7, 7, 7,  #18\n",
    "                7,  6,  6,  6,  6, 6, 6, 6 ]  #19\n",
    "\n",
    "swell1Freq = []\n",
    "for period in  swell1Period:\n",
    "    swell1Freq.append(1/period)\n",
    "\n",
    "swell1X = [datetime.datetime.strptime(val, '%H-%d/%m/%y') for val in swell1Dates]\n",
    "\n"
   ]
  },
  {
   "cell_type": "code",
   "execution_count": 5,
   "metadata": {},
   "outputs": [],
   "source": [
    "swell2Dates=[                            '06-18/08/20','09-18/08/20','12-18/08/20','15-18/08/20','18-18/08/20','21-18/08/20',\n",
    "           '00-19/08/20','03-19/08/20','06-19/08/20','09-19/08/20','12-19/08/20','15-19/08/20','18-19/08/20','21-19/08/20', \n",
    "           '00-20/08/20','03-20/08/20','06-20/08/20','09-20/08/20','12-20/08/20','15-20/08/20','18-20/08/20','21-20/08/20',\n",
    "           '00-21/08/20','03-21/08/20','06-21/08/20','09-21/08/20','12-21/08/20','15-21/08/20','18-21/08/20','21-21/08/20']\n",
    "\n",
    "swell2Period = [        8,  8,  8,10, 9, 9, #18\n",
    "               9,  8,  9,  8,  8, 7, 7, 7,  #19\n",
    "               7,  7,  7,  7,  6, 6, 6, 6,  #20\n",
    "               6,  6,  6,  6,  6, 6, 6, 6,] #21\n",
    "\n",
    "swell2Freq = []\n",
    "for period in  swell2Period:\n",
    "    swell2Freq.append(1/period)\n",
    "swell2X = [datetime.datetime.strptime(val, '%H-%d/%m/%y') for val in swell2Dates]"
   ]
  },
  {
   "cell_type": "code",
   "execution_count": 6,
   "metadata": {},
   "outputs": [],
   "source": [
    "#I need  datenum values to calculate trends,\n",
    "\n",
    "# copied function python datetime to matlab datenum conversion\n",
    "def datetime2matlabdn(dt):\n",
    "   mdn = dt + datetime.timedelta(days = 366)\n",
    "   frac_seconds = (dt-datetime.datetime(dt.year,dt.month,dt.day,0,0,0)).seconds / (24.0 * 60.0 * 60.0)\n",
    "   frac_microseconds = dt.microsecond / (24.0 * 60.0 * 60.0 * 1000000.0)\n",
    "   return mdn.toordinal() + frac_seconds + frac_microseconds\n",
    "\n",
    "swell1XDatenum = []\n",
    "for swelldate in swell1X:\n",
    "    swell1XDatenum.append(datetime2matlabdn(swelldate))\n",
    "    \n",
    "swell2XDatenum = [] \n",
    "for swelldate in swell2X:\n",
    "    swell2XDatenum.append(datetime2matlabdn(swelldate))\n",
    "    "
   ]
  },
  {
   "cell_type": "code",
   "execution_count": 7,
   "metadata": {},
   "outputs": [
    {
     "data": {
      "image/png": "[encoded data removed]",
      "text/plain": [
       "<Figure size 432x288 with 1 Axes>"
      ]
     },
     "metadata": {
      "needs_background": "light"
     },
     "output_type": "display_data"
    }
   ],
   "source": [
    "from matplotlib.ticker import MaxNLocator\n",
    "\n",
    "#plot swells\n",
    "ax = plt.subplot(111)\n",
    "#ax.bar(x, y, width = 0.01\n",
    "plt.plot(swell1X, swell1Period, 'o', color='blue', label = 'swell 1');\n",
    "plt.plot(swell2X, swell2Period, 'o', color='green', label = 'swell 2');\n",
    "ax.legend()\n",
    "\n",
    "# set weekday formatter for x axis\n",
    "xfmt = mdates.DateFormatter('%A')\n",
    "ax.xaxis.set_major_formatter(xfmt)\n",
    "# set fontsize of ticks\n",
    "ax.tick_params(axis='x', which='major', labelsize=10)\n",
    "plt.xticks(rotation=90)\n",
    "\n",
    "ax.yaxis.set_major_locator(MaxNLocator(integer=True))\n",
    "plt.ylabel(\"Period [s]\")\n",
    "\n",
    "plt.grid()\n",
    "plt.show()"
   ]
  },
  {
   "cell_type": "code",
   "execution_count": 14,
   "metadata": {},
   "outputs": [
    {
     "data": {
      "image/png": "[encoded data removed]",
      "text/plain": [
       "<Figure size 432x288 with 1 Axes>"
      ]
     },
     "metadata": {
      "needs_background": "light"
     },
     "output_type": "display_data"
    }
   ],
   "source": [
    "#plot frequencies\n",
    "\n",
    "ax = plt.subplot(111)\n",
    "#ax.bar(x, y, width = 0.01)\n",
    "#label='Inline label')\n",
    "plt.plot(swell1X, swell1Freq, 'x', color='blue', label = 'swell 1');\n",
    "plt.plot(swell2X, swell2Freq, 'x', color='green', label = 'swell 2');\n",
    "\n",
    "# set weekday formatter for x axis\n",
    "\n",
    "xfmt = mdates.DateFormatter('%A')\n",
    "ax.xaxis.set_major_formatter(xfmt)\n",
    "ax.tick_params(axis='x', which='major', labelsize=10)\n",
    "\n",
    "plt.xticks(rotation=90)\n",
    "\n",
    "plt.ylabel(\"Frequency [Hz]\")\n",
    "plt.grid()\n",
    "plt.show()"
   ]
  },
  {
   "cell_type": "code",
   "execution_count": 18,
   "metadata": {},
   "outputs": [
    {
     "name": "stdout",
     "output_type": "stream",
     "text": [
      "[ 2.75169082e-02 -2.03079323e+04]\n"
     ]
    },
    {
     "data": {
      "text/plain": [
       "[<matplotlib.lines.Line2D at 0x7ffb26d28e48>]"
      ]
     },
     "execution_count": 18,
     "metadata": {},
     "output_type": "execute_result"
    },
    {
     "data": {
      "image/png": "[encoded data removed]",
      "text/plain": [
       "<Figure size 432x288 with 1 Axes>"
      ]
     },
     "metadata": {
      "needs_background": "light"
     },
     "output_type": "display_data"
    }
   ],
   "source": [
    "#trends\n",
    "import pylab\n",
    "import numpy\n",
    "pylab.plot(swell1XDatenum,swell1Freq,'o', color='blue', label = 'swell 1')\n",
    "pylab.plot(swell2XDatenum,swell2Freq,'o',  color='green', label = 'swell 2')\n",
    "\n",
    "# calc the trendline\n",
    "z1 = numpy.polyfit(swell1XDatenum, swell1Freq, 1)\n",
    "print(z1)\n",
    "p = numpy.poly1d(z1)\n",
    "pylab.plot(swell1XDatenum,p(swell1XDatenum),\"r--\")\n",
    "\n",
    "z2 = numpy.polyfit(swell2XDatenum, swell2Freq, 1)\n",
    "p = numpy.poly1d(z2)\n",
    "pylab.plot(swell2XDatenum,p(swell2XDatenum),\"r--\")"
   ]
  },
  {
   "cell_type": "markdown",
   "metadata": {},
   "source": [
    "\"By using a simple formula we can use the rate of frequency increase \n",
    "to estimate how far away the storm was; the distance in km from the storm to the coast\n",
    "is equal to 2.8 divided by the rate of change of frequency in Hz per hr.\""
   ]
  },
  {
   "cell_type": "code",
   "execution_count": 22,
   "metadata": {},
   "outputs": [
    {
     "name": "stdout",
     "output_type": "stream",
     "text": [
      "swell 1 rate: 0.0011465378422937703 Hz/h\n",
      "Storm 1 distance: 2442.1348312396767 km\n",
      "\n",
      "swell 2 rate: 0.0007728752111208715 Hz/h\n",
      "Storm 2 distance: 3622.835820984951 km\n",
      "\n"
     ]
    }
   ],
   "source": [
    "MSWcoef = 2.8 #whole magic is creted\n",
    "hourDatenum = (swell1XDatenum[1]-swell1XDatenum[0])/3\n",
    "\n",
    "swell1Rate = hourDatenum * z1[0]\n",
    "swell2Rate = hourDatenum * z2[0]\n",
    "\n",
    "distStorm1 = 2.8/swell1Rate\n",
    "distStorm2 = 2.8/swell2Rate\n",
    "\n",
    "print(\"swell 1 rate: \" + str(swell1Rate) + \" Hz/h\")\n",
    "print(\"Storm 1 distance: \" +  str(distStorm1) + \" km\")\n",
    "print()\n",
    "print(\"swell 2 rate: \" + str(swell2Rate) + \" Hz/h\")\n",
    "print(\"Storm 2 distance: \" +  str(distStorm2) + \" km\")\n",
    "print()\n",
    " \n"
   ]
  },
  {
   "cell_type": "code",
   "execution_count": null,
   "metadata": {},
   "outputs": [],
   "source": []
  },
  {
   "cell_type": "code",
   "execution_count": null,
   "metadata": {},
   "outputs": [],
   "source": []
  }
 ],
 "metadata": {
  "kernelspec": {
   "display_name": "Python 3",
   "language": "python",
   "name": "python3"
  },
  "language_info": {
   "codemirror_mode": {
    "name": "ipython",
    "version": 3
   },
   "file_extension": ".py",
   "mimetype": "text/x-python",
   "name": "python",
   "nbconvert_exporter": "python",
   "pygments_lexer": "ipython3",
   "version": "3.6.9"
  }
 },
 "nbformat": 4,
 "nbformat_minor": 2
}
