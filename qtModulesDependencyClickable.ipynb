{
 "cells": [
  {
   "cell_type": "code",
   "execution_count": 1,
   "metadata": {},
   "outputs": [],
   "source": [
    "from annainflux import client\n",
    "import pandas as pd"
   ]
  },
  {
   "cell_type": "code",
   "execution_count": 2,
   "metadata": {},
   "outputs": [],
   "source": [
    "rs = client.query(\"SHOW TAG VALUES FROM dependencies WITH KEY=project\")\n",
    "nodes = pd.DataFrame(rs.get_points())\n",
    "nodes = nodes.drop(columns=['key'])\n",
    "nodes = nodes.append({'value': 'qtbase'}, ignore_index=True)\n",
    "\n",
    "projects = nodes['value'].tolist()\n",
    "projectCount = len(projects)"
   ]
  },
  {
   "cell_type": "code",
   "execution_count": 3,
   "metadata": {},
   "outputs": [],
   "source": [
    "rs = client.query(\"SELECT * FROM dependencies\")\n",
    "links = pd.DataFrame(rs.get_points())\n",
    "links = links.drop(columns=['branch', 'depHeadSha1', 'time'])\n",
    "links = links.rename(columns={\"project\": \"source\", \"dependency\": \"target\", \"howFar\": \"value\"})\n",
    "#order change: i want an obvious order: source->target, value, where sorce is project, target is dependency, value is no of commits\n",
    "links = links[['source', 'target','value']]\n",
    "#i also need labelrs\n",
    "sourceNames = links['source'].tolist()"
   ]
  },
  {
   "cell_type": "code",
   "execution_count": 4,
   "metadata": {},
   "outputs": [],
   "source": [
    "depMatrix = pd.DataFrame(data=None, index=range(0,projectCount), columns=range(0,projectCount), dtype=None, copy=False)\n",
    "sources = []\n",
    "targets = []\n",
    "for row in links.iterrows():        \n",
    "    sources.append(projects.index(row[1]['source']))    \n",
    "    targets.append(projects.index(row[1]['target']))    \n",
    "    depMatrix.loc[projects.index(row[1]['source']),projects.index(row[1]['target'])] = row[1]['value']\n"
   ]
  },
  {
   "cell_type": "code",
   "execution_count": 5,
   "metadata": {},
   "outputs": [],
   "source": [
    "#that is helper function I need it to present values(how many commits project is ahead of its dependency)\n",
    "def howManyCommits(link):    \n",
    "    if pd.isna(depMatrix.iloc[link[0],link[1]]):    \n",
    "        return \"\"\n",
    "    else:\n",
    "        return str(depMatrix.iloc[link[0],link[1]])"
   ]
  },
  {
   "cell_type": "code",
   "execution_count": 51,
   "metadata": {},
   "outputs": [],
   "source": [
    "#thsi is temorpary i created hard coded color map, will replace it by some sensible function in the future\n",
    "\n",
    "colorMap = []\n",
    "labelList=[]\n",
    "for (i, j) in zip(sources, targets):\n",
    "    val = depMatrix.iloc[i,j]\n",
    "    if val == 0:\n",
    "        colorMap.append('#2ca25f')\n",
    "        labelList.append('0: up to date')\n",
    "    if val == 1 :\n",
    "        colorMap.append('#99d8c9')\n",
    "        labelList.append('1 commit')\n",
    "    if val == 4 :\n",
    "        colorMap.append('#fdbb84')\n",
    "        labelList.append('4 commits')\n",
    "    \n"
   ]
  },
  {
   "cell_type": "code",
   "execution_count": 52,
   "metadata": {},
   "outputs": [],
   "source": [
    "import math\n",
    "from numpy import isnan\n",
    "from bokeh.layouts import row\n",
    "from bokeh.plotting import figure, show, output_file\n",
    "from bokeh.models import TapTool, OpenURL, ColumnDataSource,  Legend, LegendItem\n",
    "\n",
    "heatMap = figure(title=\"Qt modules dependency matrix\", \n",
    "            tools=\"tap\", toolbar_location=\"below\",                        \n",
    "            y_range = projects,y_axis_label = 'Qt module',\n",
    "            x_range = projects, x_axis_label = 'dependency',\n",
    "            plot_width=800, plot_height=800,)\n",
    "\n",
    "heatMap.xaxis.major_label_orientation = math.pi/2           \n",
    "\n",
    "taptool = heatMap.select(type=TapTool)\n",
    "taptool.callback = OpenURL(url=\"https://testresults.qt.io/grafana/d/pJyKbjXZz/git?orgId=1&var-project=@y\")\n",
    "\n",
    "\n",
    "#careful here!\n",
    "#sources: qtprojects, are on Y axis\n",
    "#targets: dependent modules are on X axis\n",
    "moduleDependencyData = ColumnDataSource(data=dict(x=targets,y=sourceNames, color= colorMap, label=labelList))\n",
    "heatMap.circle('x', 'y', color='color', size=22, legend_group='label', source=moduleDependencyData)\n",
    "\n",
    "#Again careful here - targets (dependencies) are on x axis\n",
    "# sources qt modules are on y axis,  can be super confusing!\n",
    "heatMap.text(targets, sourceNames, text=[\"%s\" % howManyCommits((i,j)) for (i, j) in zip(sources, targets)], text_align=\"left\", text_baseline = \"middle\")\n",
    "\n",
    "output_file(\"qtModulesDependcyMap.html\", title=\"qt modules dependency map\")\n",
    "show(heatMap)  # open a browser"
   ]
  }
 ],
 "metadata": {
  "kernelspec": {
   "display_name": "Python 3",
   "language": "python",
   "name": "python3"
  },
  "language_info": {
   "codemirror_mode": {
    "name": "ipython",
    "version": 3
   },
   "file_extension": ".py",
   "mimetype": "text/x-python",
   "name": "python",
   "nbconvert_exporter": "python",
   "pygments_lexer": "ipython3",
   "version": "3.6.9"
  }
 },
 "nbformat": 4,
 "nbformat_minor": 2
}
